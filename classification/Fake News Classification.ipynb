{
 "cells": [
  {
   "cell_type": "code",
   "execution_count": 58,
   "metadata": {
    "collapsed": true
   },
   "outputs": [],
   "source": [
    "# setup our environment\n",
    "\n",
    "import pandas as pd\n",
    "import numpy as np\n",
    "\n",
    "DATA_FILE = \"data/fake_or_real_news.csv\"\n",
    "\n",
    "TEST_SIZE = 0.2\n",
    "N_SAMPLE = 2000 # we only use N_SAMPLE news stories\n",
    "\n",
    "# configure bootstrap\n",
    "N_ITERATIONS = 50\n",
    "ALPHA = .95"
   ]
  },
  {
   "cell_type": "code",
   "execution_count": 2,
   "metadata": {
    "collapsed": true
   },
   "outputs": [],
   "source": [
    "# define a function that allows us to evaluate our models\n",
    "\n",
    "from sklearn.metrics import accuracy_score\n",
    "\n",
    "def evaluate_model(predict_fun, X_train, y_train, X_test, y_test):\n",
    "    '''\n",
    "    evaluate the model, both training and testing errors are reported\n",
    "    '''\n",
    "    # training error\n",
    "    y_predict_train = predict_fun(X_train)\n",
    "    print(\"Training Accuracy: {: 6.2f}%\".format(accuracy_score(y_train,y_predict_train)*100))\n",
    "    # testing error\n",
    "    y_predict_test = predict_fun(X_test)\n",
    "    print(\"Testing Accuracy: {: 6.2f}%\".format(accuracy_score(y_test,y_predict_test)*100))"
   ]
  },
  {
   "cell_type": "code",
   "execution_count": 60,
   "metadata": {
    "collapsed": true
   },
   "outputs": [],
   "source": [
    "# bootstrap function\n",
    "\n",
    "from sklearn.metrics import accuracy_score\n",
    "from sklearn.model_selection import train_test_split\n",
    "\n",
    "def bootstrap_conf(fit_fun, predict_fun, data, target_label, n_iterations, alpha):\n",
    "    # compute the bootstrap samples\n",
    "    stats = []\n",
    "    print('Computing bootstrap samples: ', end='')\n",
    "    for i in range(n_iterations):\n",
    "        print(i, end=' ')\n",
    "        # prepare train and test sets\n",
    "        boot_sample = data.sample(n=data.shape[0],\n",
    "                                  replace=True,\n",
    "                                  axis='index')\n",
    "        boot_X = boot_sample.drop(labels=target_label, axis='columns')\n",
    "        boot_y = boot_sample[target_label]\n",
    "        boot_X_train, boot_X_test, boot_y_train, boot_y_test = train_test_split(boot_X, \n",
    "                                                                                boot_y, \n",
    "                                                                                test_size=TEST_SIZE)\n",
    "        # build & eval the model\n",
    "        fit_fun(boot_X_train, boot_y_train)\n",
    "        predictions = predict_fun(boot_X_test)\n",
    "        score = accuracy_score(boot_y_test, predictions)\n",
    "        # save the score for this bootstrap sample\n",
    "        stats.append(score)\n",
    "    print('')\n",
    "    # confidence intervals\n",
    "    p = ((1.0-alpha)/2.0) * 100\n",
    "    lower = max(0.0, np.percentile(stats, p))\n",
    "    p = (alpha+((1.0-alpha)/2.0)) * 100\n",
    "    upper = min(1.0, np.percentile(stats, p))\n",
    "    # average performance\n",
    "    avg_acc = sum(stats)/n_iterations\n",
    "\n",
    "    return lower, upper, avg_acc, stats"
   ]
  },
  {
   "cell_type": "code",
   "execution_count": 4,
   "metadata": {},
   "outputs": [
    {
     "name": "stdout",
     "output_type": "stream",
     "text": [
      "found empty text @ 106...dropping\n",
      "found empty text @ 710...dropping\n",
      "found empty text @ 806...dropping\n",
      "found empty text @ 919...dropping\n",
      "found empty text @ 940...dropping\n",
      "found empty text @ 1664...dropping\n",
      "found empty text @ 1736...dropping\n",
      "found empty text @ 1851...dropping\n",
      "found empty text @ 1883...dropping\n",
      "found empty text @ 1941...dropping\n",
      "found empty text @ 2244...dropping\n",
      "found empty text @ 2426...dropping\n",
      "found empty text @ 2576...dropping\n",
      "found empty text @ 2662...dropping\n",
      "found empty text @ 2788...dropping\n",
      "found empty text @ 2832...dropping\n",
      "found empty text @ 3073...dropping\n",
      "found empty text @ 3350...dropping\n",
      "found empty text @ 3511...dropping\n",
      "found empty text @ 3641...dropping\n",
      "found empty text @ 3642...dropping\n",
      "found empty text @ 4014...dropping\n",
      "found empty text @ 4142...dropping\n",
      "found empty text @ 4253...dropping\n",
      "found empty text @ 4713...dropping\n",
      "found empty text @ 4744...dropping\n",
      "found empty text @ 5017...dropping\n",
      "found empty text @ 5088...dropping\n",
      "found empty text @ 5213...dropping\n",
      "found empty text @ 5581...dropping\n",
      "found empty text @ 5639...dropping\n",
      "found empty text @ 5699...dropping\n",
      "found empty text @ 5772...dropping\n",
      "found empty text @ 6064...dropping\n",
      "found empty text @ 6175...dropping\n",
      "found empty text @ 6328...dropping\n"
     ]
    }
   ],
   "source": [
    "# read in our data and clean it\n",
    "# NOTE: the data file contains empty 'text' entries\n",
    "\n",
    "df = pd.read_csv(DATA_FILE)\n",
    "df.drop(labels=['id','title'], axis='columns', inplace=True)\n",
    "\n",
    "def drop_empty_rows(df):\n",
    "    drop_list = []\n",
    "    for i in range(df.shape[0]):\n",
    "        if df.loc[i,'text'].isspace():\n",
    "            print(\"found empty text @ {}...dropping\".format(i))\n",
    "            drop_list.append(i)\n",
    "    new_df = df.drop(labels=drop_list, axis='index')\n",
    "    new_index = [i for i in range(new_df.shape[0])]\n",
    "    new_df.index = new_index\n",
    "    return new_df\n",
    "\n",
    "df = drop_empty_rows(df)"
   ]
  },
  {
   "cell_type": "code",
   "execution_count": 5,
   "metadata": {},
   "outputs": [
    {
     "name": "stdout",
     "output_type": "stream",
     "text": [
      "(6299, 2)\n"
     ]
    }
   ],
   "source": [
    "print(df.shape)"
   ]
  },
  {
   "cell_type": "code",
   "execution_count": 6,
   "metadata": {
    "collapsed": true
   },
   "outputs": [],
   "source": [
    "# sample down our data set\n",
    "\n",
    "df = df.sample(n=N_SAMPLE, axis='index')\n",
    "\n",
    "X = df['text']\n",
    "y = df['label']"
   ]
  },
  {
   "cell_type": "code",
   "execution_count": 7,
   "metadata": {
    "collapsed": true
   },
   "outputs": [],
   "source": [
    "# convert labels to numeric labels\n",
    "# NOTE: DNNs need numeric labels\n",
    "\n",
    "def convert(x):\n",
    "    if x == 'FAKE':\n",
    "        return 0.0\n",
    "    else:\n",
    "        return 1.0\n"
   ]
  },
  {
   "cell_type": "markdown",
   "metadata": {},
   "source": [
    "## Syntactic Features"
   ]
  },
  {
   "cell_type": "code",
   "execution_count": 9,
   "metadata": {},
   "outputs": [],
   "source": [
    "# set up vector models for training and testing\n",
    "\n",
    "from sklearn.feature_extraction.text import CountVectorizer\n",
    "\n",
    "# data vectorizer\n",
    "vectorizer = CountVectorizer(analyzer = \"word\", \n",
    "                             binary = True, \n",
    "                             min_df = 2,\n",
    "                             stop_words='english')\n",
    "docarray = vectorizer.fit_transform(X).toarray()\n",
    "docterm = pd.DataFrame(docarray, columns=vectorizer.get_feature_names())"
   ]
  },
  {
   "cell_type": "code",
   "execution_count": 10,
   "metadata": {},
   "outputs": [
    {
     "name": "stdout",
     "output_type": "stream",
     "text": [
      "(2000, 23577)\n"
     ]
    }
   ],
   "source": [
    "print(docterm.shape)"
   ]
  },
  {
   "cell_type": "code",
   "execution_count": 55,
   "metadata": {
    "collapsed": true
   },
   "outputs": [],
   "source": [
    "# create training and test data\n",
    "from sklearn.model_selection import train_test_split\n",
    "docterm_train, docterm_test, y_train, y_test = train_test_split(docterm, y, test_size=TEST_SIZE)"
   ]
  },
  {
   "cell_type": "code",
   "execution_count": 49,
   "metadata": {},
   "outputs": [],
   "source": [
    "# data for accuracy confidence interval and average accuracy\n",
    "\n",
    "data = docterm.copy()\n",
    "data['_label_'] = y.values\n",
    "\n",
    "# dnn data has to be all numerical\n",
    "dnn_data = docterm.copy()\n",
    "dnn_data['_label_'] = y.apply(convert).values"
   ]
  },
  {
   "cell_type": "code",
   "execution_count": 56,
   "metadata": {},
   "outputs": [
    {
     "name": "stdout",
     "output_type": "stream",
     "text": [
      "Training Accuracy:  96.81%\n",
      "Testing Accuracy:  84.00%\n"
     ]
    }
   ],
   "source": [
    "# Naive Bayes Model - train & test\n",
    "from sklearn.naive_bayes import MultinomialNB\n",
    "model = MultinomialNB()\n",
    "model.fit(docterm_train, y_train)\n",
    "\n",
    "# evaluate model\n",
    "evaluate_model(model.predict, docterm_train, y_train, docterm_test, y_test)"
   ]
  },
  {
   "cell_type": "code",
   "execution_count": 61,
   "metadata": {},
   "outputs": [
    {
     "name": "stdout",
     "output_type": "stream",
     "text": [
      "Computing bootstrap samples: 0 1 2 3 4 5 6 7 8 9 10 11 12 13 14 15 16 17 18 19 20 21 22 23 24 25 26 27 28 29 30 31 32 33 34 35 36 37 38 39 40 41 42 43 44 45 46 47 48 49 \n",
      "95.00% confidence interval 90.00% and 95.94%\n",
      "Average accuracy: 92.95%\n"
     ]
    }
   ],
   "source": [
    "# Naive Bayes Model - accuracy confidence interval & average accuracy\n",
    "\n",
    "lb, ub, ave_acc, scores = bootstrap_conf(model.fit, \n",
    "                                         model.predict, \n",
    "                                         data, \n",
    "                                         '_label_', \n",
    "                                         N_ITERATIONS, \n",
    "                                         ALPHA)\n",
    "print('{:.2f}% confidence interval {:.2f}% and {:.2f}%'.format(ALPHA*100, lb*100, ub*100))\n",
    "print(\"Average accuracy: {:.2f}%\".format(ave_acc*100))"
   ]
  },
  {
   "cell_type": "code",
   "execution_count": 62,
   "metadata": {},
   "outputs": [
    {
     "data": {
      "image/png": "[encoded data removed]",
      "text/plain": [
       "<matplotlib.figure.Figure at 0x11a5f07f0>"
      ]
     },
     "metadata": {},
     "output_type": "display_data"
    }
   ],
   "source": [
    "# plot scores\n",
    "from matplotlib import pyplot\n",
    "pyplot.hist(scores)\n",
    "pyplot.show()"
   ]
  },
  {
   "cell_type": "code",
   "execution_count": 63,
   "metadata": {},
   "outputs": [
    {
     "name": "stdout",
     "output_type": "stream",
     "text": [
      "Training Accuracy:  94.00%\n",
      "Testing Accuracy:  82.00%\n"
     ]
    }
   ],
   "source": [
    "# Random Forest Model - train & test\n",
    "from sklearn.ensemble import RandomForestClassifier\n",
    "model = RandomForestClassifier(min_samples_split=60)\n",
    "model.fit(docterm_train, y_train)\n",
    "\n",
    "# evaluate model\n",
    "evaluate_model(model.predict, docterm_train, y_train, docterm_test, y_test)"
   ]
  },
  {
   "cell_type": "code",
   "execution_count": 64,
   "metadata": {
    "scrolled": true
   },
   "outputs": [
    {
     "name": "stdout",
     "output_type": "stream",
     "text": [
      "Computing bootstrap samples: 0 1 2 3 4 5 6 7 8 9 10 11 12 13 14 15 16 17 18 19 20 21 22 23 24 25 26 27 28 29 30 31 32 33 34 35 36 37 38 39 40 41 42 43 44 45 46 47 48 49 \n",
      "95.00% confidence interval 84.61% and 92.25%\n",
      "Average accuracy: 88.43%\n"
     ]
    }
   ],
   "source": [
    "# Random Forest Model - accuracy confidence interval & average accuracy\n",
    "\n",
    "lb, ub, ave_acc, scores = bootstrap_conf(model.fit, \n",
    "                                         model.predict, \n",
    "                                         data, \n",
    "                                         '_label_', \n",
    "                                         N_ITERATIONS, \n",
    "                                         ALPHA)\n",
    "print('{:.2f}% confidence interval {:.2f}% and {:.2f}%'.format(ALPHA*100, lb*100, ub*100))\n",
    "print(\"Average accuracy: {:.2f}%\".format(ave_acc*100))"
   ]
  },
  {
   "cell_type": "code",
   "execution_count": 65,
   "metadata": {},
   "outputs": [
    {
     "data": {
      "image/png": "[encoded data removed]",
      "text/plain": [
       "<matplotlib.figure.Figure at 0x11aa9cd30>"
      ]
     },
     "metadata": {},
     "output_type": "display_data"
    }
   ],
   "source": [
    "# plot scores\n",
    "from matplotlib import pyplot\n",
    "pyplot.hist(scores)\n",
    "pyplot.show()"
   ]
  },
  {
   "cell_type": "code",
   "execution_count": null,
   "metadata": {
    "collapsed": true
   },
   "outputs": [],
   "source": [
    "# DNN\n",
    "import numpy as np\n",
    "from keras.models import Sequential\n",
    "from keras.layers import Dense, Dropout\n",
    "\n",
    "# build the model\n",
    "model = Sequential()\n",
    "model.add(Dense(1024, input_dim=docterm_train.shape[1], activation='relu'))\n",
    "model.add(Dropout(0.5))\n",
    "model.add(Dense(512, activation='relu'))\n",
    "model.add(Dropout(0.5))\n",
    "model.add(Dense(512, activation='relu'))\n",
    "model.add(Dropout(0.5))\n",
    "model.add(Dense(128, activation='relu'))\n",
    "model.add(Dropout(0.5))\n",
    "model.add(Dense(64, activation='relu'))\n",
    "model.add(Dropout(0.5))\n",
    "model.add(Dense(1, activation='sigmoid'))\n",
    "\n",
    "model.compile(loss='binary_crossentropy',\n",
    "              optimizer='rmsprop',\n",
    "              metrics=['accuracy'])"
   ]
  },
  {
   "cell_type": "code",
   "execution_count": 74,
   "metadata": {},
   "outputs": [
    {
     "name": "stdout",
     "output_type": "stream",
     "text": [
      "Epoch 1/5\n",
      "1600/1600 [==============================] - 14s 9ms/step - loss: 0.7360 - acc: 0.5219\n",
      "Epoch 2/5\n",
      "1600/1600 [==============================] - 12s 7ms/step - loss: 0.5886 - acc: 0.6975\n",
      "Epoch 3/5\n",
      "1600/1600 [==============================] - 11s 7ms/step - loss: 0.3645 - acc: 0.8675\n",
      "Epoch 4/5\n",
      "1600/1600 [==============================] - 11s 7ms/step - loss: 0.1668 - acc: 0.9569\n",
      "Epoch 5/5\n",
      "1600/1600 [==============================] - 12s 8ms/step - loss: 0.0424 - acc: 0.9919\n"
     ]
    },
    {
     "data": {
      "text/plain": [
       "<keras.callbacks.History at 0x1483089b0>"
      ]
     },
     "execution_count": 74,
     "metadata": {},
     "output_type": "execute_result"
    }
   ],
   "source": [
    "model.fit(docterm_train, y_train.apply(convert),\n",
    "          epochs=5,\n",
    "          batch_size=128,\n",
    "          validation_data=(docterm_test, y_test.apply(convert)))"
   ]
  },
  {
   "cell_type": "code",
   "execution_count": 75,
   "metadata": {},
   "outputs": [
    {
     "name": "stdout",
     "output_type": "stream",
     "text": [
      "Training Accuracy:  99.75%\n",
      "Testing Accuracy:  91.25%\n"
     ]
    }
   ],
   "source": [
    "# evaluate model\n",
    "\n",
    "evaluate_model(model.predict_classes, docterm_train, y_train.apply(convert), docterm_test, y_test.apply(convert))"
   ]
  },
  {
   "cell_type": "code",
   "execution_count": 77,
   "metadata": {},
   "outputs": [
    {
     "name": "stdout",
     "output_type": "stream",
     "text": [
      "Computing bootstrap samples: 0 1 2 3 4 5 6 7 8 9 10 11 12 13 14 15 16 17 18 19 20 21 22 23 24 25 26 27 28 29 30 31 32 33 34 35 36 37 38 39 40 41 42 43 44 45 46 47 48 49 \n",
      "95.00% confidence interval 99.75% and 100.00%\n",
      "Average accuracy: 99.95%\n"
     ]
    }
   ],
   "source": [
    "# DNN - accuracy confidence interval & average accuracy\n",
    "\n",
    "def dnn_model_fit(X, y):\n",
    "    model.fit(X, \n",
    "              y,\n",
    "              epochs=5,\n",
    "              batch_size=128,\n",
    "              verbose=0)\n",
    "\n",
    "lb, ub, ave_acc, scores = bootstrap_conf(dnn_model_fit, \n",
    "                                         model.predict_classes, \n",
    "                                         dnn_data, \n",
    "                                         '_label_', \n",
    "                                         N_ITERATIONS, \n",
    "                                         ALPHA)\n",
    "print('{:.2f}% confidence interval {:.2f}% and {:.2f}%'.format(ALPHA*100, lb*100, ub*100))\n",
    "print(\"Average accuracy: {:.2f}%\".format(ave_acc*100))"
   ]
  },
  {
   "cell_type": "code",
   "execution_count": 78,
   "metadata": {},
   "outputs": [
    {
     "data": {
      "image/png": "[encoded data removed]",
      "text/plain": [
       "<matplotlib.figure.Figure at 0x148528940>"
      ]
     },
     "metadata": {},
     "output_type": "display_data"
    }
   ],
   "source": [
    "# plot scores\n",
    "from matplotlib import pyplot\n",
    "pyplot.hist(scores)\n",
    "pyplot.show()"
   ]
  },
  {
   "cell_type": "markdown",
   "metadata": {},
   "source": [
    "## Semantic Features"
   ]
  },
  {
   "cell_type": "code",
   "execution_count": 80,
   "metadata": {},
   "outputs": [],
   "source": [
    "# Load Spacy semantic model\n",
    "\n",
    "import spacy\n",
    "\n",
    "EMBEDDING_DIM = 300\n",
    "\n",
    "# NOTE: for performance reasons disable everything in the pipeline except the tokenizer\n",
    "nlp = spacy.load('en_core_web_lg', disable=['parser', 'tagger', 'ner', 'textcat'])"
   ]
  },
  {
   "cell_type": "code",
   "execution_count": 81,
   "metadata": {},
   "outputs": [
    {
     "name": "stdout",
     "output_type": "stream",
     "text": [
      "(2000,)\n"
     ]
    }
   ],
   "source": [
    "# preprocess text for semantic features\n",
    "\n",
    "def embed(X):\n",
    "    '''\n",
    "    x is a list of strings and embed will compute\n",
    "    an embedding vector for each and return an array\n",
    "    of shape (len(x),EMBEDDING_DIM)\n",
    "    '''\n",
    "    vectors = []\n",
    "    text_array = np.array(X)\n",
    "\n",
    "    print(text_array.shape)\n",
    "    \n",
    "    for i in range(text_array.shape[0]):\n",
    "        vector = nlp(text_array[i]).vector\n",
    "        vectors.append(vector)\n",
    "    \n",
    "    return pd.DataFrame(vectors)\n",
    "\n",
    "vectors = embed(X)"
   ]
  },
  {
   "cell_type": "code",
   "execution_count": 82,
   "metadata": {
    "collapsed": true
   },
   "outputs": [],
   "source": [
    "# create training and test data\n",
    "from sklearn.model_selection import train_test_split\n",
    "vectors_train, vectors_test, y_train, y_test = train_test_split(vectors, \n",
    "                                                                y.apply(convert), \n",
    "                                                                test_size=TEST_SIZE)"
   ]
  },
  {
   "cell_type": "code",
   "execution_count": 84,
   "metadata": {
    "collapsed": true
   },
   "outputs": [],
   "source": [
    "# data for accuracy confidence interval and average accuracy\n",
    "\n",
    "data = vectors.copy()\n",
    "data['_label_'] = y.values\n",
    "\n",
    "# dnn data has to be all numerical\n",
    "dnn_data = vectors.copy()\n",
    "dnn_data['_label_'] = y.apply(convert).values"
   ]
  },
  {
   "cell_type": "code",
   "execution_count": 85,
   "metadata": {},
   "outputs": [
    {
     "name": "stdout",
     "output_type": "stream",
     "text": [
      "Training Accuracy:  71.25%\n",
      "Testing Accuracy:  72.00%\n"
     ]
    }
   ],
   "source": [
    "# Naive Bayes Model \n",
    "from sklearn.naive_bayes import GaussianNB\n",
    "model = GaussianNB()\n",
    "model.fit(vectors_train,y_train)\n",
    "\n",
    "# evaluate model\n",
    "evaluate_model(model.predict, vectors_train, y_train, vectors_test, y_test)"
   ]
  },
  {
   "cell_type": "code",
   "execution_count": 86,
   "metadata": {},
   "outputs": [
    {
     "name": "stdout",
     "output_type": "stream",
     "text": [
      "Computing bootstrap samples: 0 1 2 3 4 5 6 7 8 9 10 11 12 13 14 15 16 17 18 19 20 21 22 23 24 25 26 27 28 29 30 31 32 33 34 35 36 37 38 39 40 41 42 43 44 45 46 47 48 49 \n",
      "95.00% confidence interval 66.97% and 76.39%\n",
      "Average accuracy: 71.29%\n"
     ]
    }
   ],
   "source": [
    "# Naive Bayes Model - accuracy confidence interval & average accuracy\n",
    "\n",
    "lb, ub, ave_acc, scores = bootstrap_conf(model.fit, \n",
    "                                         model.predict, \n",
    "                                         data, \n",
    "                                         '_label_', \n",
    "                                         N_ITERATIONS, \n",
    "                                         ALPHA)\n",
    "print('{:.2f}% confidence interval {:.2f}% and {:.2f}%'.format(ALPHA*100, lb*100, ub*100))\n",
    "print(\"Average accuracy: {:.2f}%\".format(ave_acc*100))"
   ]
  },
  {
   "cell_type": "code",
   "execution_count": 87,
   "metadata": {},
   "outputs": [
    {
     "data": {
      "image/png": "[encoded data removed]",
      "text/plain": [
       "<matplotlib.figure.Figure at 0x139294668>"
      ]
     },
     "metadata": {},
     "output_type": "display_data"
    }
   ],
   "source": [
    "# plot scores\n",
    "from matplotlib import pyplot\n",
    "pyplot.hist(scores)\n",
    "pyplot.show()"
   ]
  },
  {
   "cell_type": "code",
   "execution_count": 89,
   "metadata": {},
   "outputs": [
    {
     "name": "stdout",
     "output_type": "stream",
     "text": [
      "Training Accuracy:  98.12%\n",
      "Testing Accuracy:  86.25%\n"
     ]
    }
   ],
   "source": [
    "# Random Forest Model \n",
    "from sklearn.ensemble import RandomForestClassifier\n",
    "model = RandomForestClassifier(min_samples_split=10)\n",
    "model.fit(vectors_train, y_train)\n",
    "\n",
    "# evaluate model\n",
    "evaluate_model(model.predict, vectors_train, y_train, vectors_test, y_test)"
   ]
  },
  {
   "cell_type": "code",
   "execution_count": 90,
   "metadata": {},
   "outputs": [
    {
     "name": "stdout",
     "output_type": "stream",
     "text": [
      "Computing bootstrap samples: 0 1 2 3 4 5 6 7 8 9 10 11 12 13 14 15 16 17 18 19 20 21 22 23 24 25 26 27 28 29 30 31 32 33 34 35 36 37 38 39 40 41 42 43 44 45 46 47 48 49 \n",
      "95.00% confidence interval 86.39% and 92.94%\n",
      "Average accuracy: 90.55%\n"
     ]
    }
   ],
   "source": [
    "# Random Forest Model - accuracy confidence interval & average accuracy\n",
    "\n",
    "lb, ub, ave_acc, scores = bootstrap_conf(model.fit, \n",
    "                                         model.predict, \n",
    "                                         data, \n",
    "                                         '_label_', \n",
    "                                         N_ITERATIONS, \n",
    "                                         ALPHA)\n",
    "print('{:.2f}% confidence interval {:.2f}% and {:.2f}%'.format(ALPHA*100, lb*100, ub*100))\n",
    "print(\"Average accuracy: {:.2f}%\".format(ave_acc*100))"
   ]
  },
  {
   "cell_type": "code",
   "execution_count": 91,
   "metadata": {},
   "outputs": [
    {
     "data": {
      "image/png": "[encoded data removed]",
      "text/plain": [
       "<matplotlib.figure.Figure at 0x118aafdd8>"
      ]
     },
     "metadata": {},
     "output_type": "display_data"
    }
   ],
   "source": [
    "# plot scores\n",
    "from matplotlib import pyplot\n",
    "pyplot.hist(scores)\n",
    "pyplot.show()"
   ]
  },
  {
   "cell_type": "code",
   "execution_count": 94,
   "metadata": {},
   "outputs": [
    {
     "name": "stdout",
     "output_type": "stream",
     "text": [
      "Train on 1600 samples, validate on 400 samples\n",
      "Epoch 1/15\n",
      "1600/1600 [==============================] - 3s 2ms/step - loss: 0.6977 - acc: 0.5131 - val_loss: 0.6860 - val_acc: 0.4925\n",
      "Epoch 2/15\n",
      "1600/1600 [==============================] - 0s 213us/step - loss: 0.6866 - acc: 0.5394 - val_loss: 0.6657 - val_acc: 0.7250\n",
      "Epoch 3/15\n",
      "1600/1600 [==============================] - 0s 211us/step - loss: 0.6640 - acc: 0.5931 - val_loss: 0.6179 - val_acc: 0.7100\n",
      "Epoch 4/15\n",
      "1600/1600 [==============================] - 0s 250us/step - loss: 0.6262 - acc: 0.6569 - val_loss: 0.5178 - val_acc: 0.7875\n",
      "Epoch 5/15\n",
      "1600/1600 [==============================] - 0s 267us/step - loss: 0.5607 - acc: 0.7281 - val_loss: 0.4491 - val_acc: 0.8150\n",
      "Epoch 6/15\n",
      "1600/1600 [==============================] - 0s 208us/step - loss: 0.5024 - acc: 0.7744 - val_loss: 0.4001 - val_acc: 0.8350\n",
      "Epoch 7/15\n",
      "1600/1600 [==============================] - 0s 256us/step - loss: 0.4662 - acc: 0.7925 - val_loss: 0.3704 - val_acc: 0.8475\n",
      "Epoch 8/15\n",
      "1600/1600 [==============================] - 0s 297us/step - loss: 0.4680 - acc: 0.7800 - val_loss: 0.3781 - val_acc: 0.8450\n",
      "Epoch 9/15\n",
      "1600/1600 [==============================] - 1s 321us/step - loss: 0.4229 - acc: 0.8156 - val_loss: 0.3672 - val_acc: 0.8425\n",
      "Epoch 10/15\n",
      "1600/1600 [==============================] - 0s 240us/step - loss: 0.4155 - acc: 0.8275 - val_loss: 0.3180 - val_acc: 0.8700\n",
      "Epoch 11/15\n",
      "1600/1600 [==============================] - 0s 249us/step - loss: 0.3978 - acc: 0.8369 - val_loss: 0.2902 - val_acc: 0.9000\n",
      "Epoch 12/15\n",
      "1600/1600 [==============================] - 0s 262us/step - loss: 0.4040 - acc: 0.8269 - val_loss: 0.3234 - val_acc: 0.8900\n",
      "Epoch 13/15\n",
      "1600/1600 [==============================] - 0s 272us/step - loss: 0.3795 - acc: 0.8362 - val_loss: 0.3149 - val_acc: 0.8675\n",
      "Epoch 14/15\n",
      "1600/1600 [==============================] - 0s 220us/step - loss: 0.3657 - acc: 0.8425 - val_loss: 0.3438 - val_acc: 0.8425\n",
      "Epoch 15/15\n",
      "1600/1600 [==============================] - 0s 205us/step - loss: 0.3546 - acc: 0.8481 - val_loss: 0.2686 - val_acc: 0.9100\n"
     ]
    },
    {
     "data": {
      "text/plain": [
       "<keras.callbacks.History at 0x14668e6d8>"
      ]
     },
     "execution_count": 94,
     "metadata": {},
     "output_type": "execute_result"
    }
   ],
   "source": [
    "# DNN - MLP\n",
    "from keras.models import Sequential\n",
    "from keras.layers import Dense, Dropout\n",
    "\n",
    "# build the model\n",
    "model = Sequential()\n",
    "model.add(Dense(256, input_dim=EMBEDDING_DIM, activation='relu'))\n",
    "model.add(Dropout(0.5))\n",
    "model.add(Dense(256, activation='relu'))\n",
    "model.add(Dropout(0.5))\n",
    "model.add(Dense(128, activation='relu'))\n",
    "model.add(Dropout(0.5))\n",
    "model.add(Dense(64, activation='relu'))\n",
    "model.add(Dropout(0.5))\n",
    "model.add(Dense(1, activation='sigmoid'))\n",
    "\n",
    "model.compile(loss='binary_crossentropy',\n",
    "              optimizer='rmsprop',\n",
    "              metrics=['accuracy'])\n",
    "\n",
    "model.fit(vectors_train, y_train,\n",
    "          epochs=15,\n",
    "          batch_size=128,\n",
    "          validation_data=(vectors_test, y_test))"
   ]
  },
  {
   "cell_type": "code",
   "execution_count": 95,
   "metadata": {},
   "outputs": [
    {
     "name": "stdout",
     "output_type": "stream",
     "text": [
      "Training Accuracy:  89.44%\n",
      "Testing Accuracy:  91.00%\n"
     ]
    }
   ],
   "source": [
    "# evaluate model\n",
    "\n",
    "evaluate_model(model.predict_classes, vectors_train, y_train, vectors_test, y_test)"
   ]
  },
  {
   "cell_type": "code",
   "execution_count": 96,
   "metadata": {},
   "outputs": [
    {
     "name": "stdout",
     "output_type": "stream",
     "text": [
      "Computing bootstrap samples: 0 1 2 3 4 5 6 7 8 9 10 11 12 13 14 15 16 17 18 19 20 21 22 23 24 25 26 27 28 29 30 31 32 33 34 35 36 37 38 39 40 41 42 43 44 45 46 47 48 49 \n",
      "95.00% confidence interval 90.81% and 100.00%\n",
      "Average accuracy: 98.38%\n"
     ]
    }
   ],
   "source": [
    "# DNN - accuracy confidence interval & average accuracy\n",
    "\n",
    "def dnn_model_fit(X, y):\n",
    "    model.fit(X, \n",
    "              y,\n",
    "              epochs=15,\n",
    "              batch_size=128,\n",
    "              verbose=0)\n",
    "\n",
    "lb, ub, ave_acc, scores = bootstrap_conf(dnn_model_fit, \n",
    "                                         model.predict_classes, \n",
    "                                         dnn_data, \n",
    "                                         '_label_', \n",
    "                                         N_ITERATIONS, \n",
    "                                         ALPHA)\n",
    "print('{:.2f}% confidence interval {:.2f}% and {:.2f}%'.format(ALPHA*100, lb*100, ub*100))\n",
    "print(\"Average accuracy: {:.2f}%\".format(ave_acc*100))"
   ]
  },
  {
   "cell_type": "code",
   "execution_count": 97,
   "metadata": {},
   "outputs": [
    {
     "data": {
      "image/png": "[encoded data removed]",
      "text/plain": [
       "<matplotlib.figure.Figure at 0x1500ce080>"
      ]
     },
     "metadata": {},
     "output_type": "display_data"
    }
   ],
   "source": [
    "# plot scores\n",
    "from matplotlib import pyplot\n",
    "pyplot.hist(scores)\n",
    "pyplot.show()"
   ]
  },
  {
   "cell_type": "code",
   "execution_count": null,
   "metadata": {
    "collapsed": true
   },
   "outputs": [],
   "source": []
  }
 ],
 "metadata": {
  "kernelspec": {
   "display_name": "Python 3",
   "language": "python",
   "name": "python3"
  },
  "language_info": {
   "codemirror_mode": {
    "name": "ipython",
    "version": 3
   },
   "file_extension": ".py",
   "mimetype": "text/x-python",
   "name": "python",
   "nbconvert_exporter": "python",
   "pygments_lexer": "ipython3",
   "version": "3.6.1"
  }
 },
 "nbformat": 4,
 "nbformat_minor": 2
}
