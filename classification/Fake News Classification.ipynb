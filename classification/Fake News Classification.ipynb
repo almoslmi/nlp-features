{
 "cells": [
  {
   "cell_type": "code",
   "execution_count": 1,
   "metadata": {
    "collapsed": true
   },
   "outputs": [],
   "source": [
    "# setup our environment\n",
    "\n",
    "import pandas as pd\n",
    "import numpy as np\n",
    "\n",
    "DATA_FILE = \"data/fake_or_real_news.csv\"\n",
    "\n",
    "TEST_SIZE = 0.2\n",
    "N_SAMPLE = 2000 # we only use N_SAMPLE news stories\n",
    "\n",
    "# configure bootstrap\n",
    "N_ITERATIONS = 50 # keeping it low, DNNs take a LONG time to train\n",
    "ALPHA = .95"
   ]
  },
  {
   "cell_type": "code",
   "execution_count": 2,
   "metadata": {
    "collapsed": true
   },
   "outputs": [],
   "source": [
    "# define a function that allows us to evaluate our models\n",
    "\n",
    "from sklearn.metrics import accuracy_score\n",
    "\n",
    "def evaluate_model(predict_fun, X_train, y_train, X_test, y_test):\n",
    "    '''\n",
    "    evaluate the model, both training and testing errors are reported\n",
    "    '''\n",
    "    # training error\n",
    "    y_predict_train = predict_fun(X_train)\n",
    "    print(\"Training Accuracy: {: 6.2f}%\".format(accuracy_score(y_train,y_predict_train)*100))\n",
    "    # testing error\n",
    "    y_predict_test = predict_fun(X_test)\n",
    "    print(\"Testing Accuracy: {: 6.2f}%\".format(accuracy_score(y_test,y_predict_test)*100))"
   ]
  },
  {
   "cell_type": "code",
   "execution_count": 3,
   "metadata": {
    "collapsed": true
   },
   "outputs": [],
   "source": [
    "# bootstrap function\n",
    "\n",
    "from sklearn.metrics import accuracy_score\n",
    "from sklearn.model_selection import train_test_split\n",
    "\n",
    "def bootstrap_conf(fit_fun, predict_fun, data, target_label, n_iterations, alpha):\n",
    "    # compute the bootstrap samples\n",
    "    stats = []\n",
    "    print('Computing bootstrap samples: ', end='')\n",
    "    for i in range(n_iterations):\n",
    "        print(i, end=' ')\n",
    "        # prepare train and test sets\n",
    "        boot_sample = data.sample(n=data.shape[0],\n",
    "                                  replace=True,\n",
    "                                  axis='index')\n",
    "        boot_X = boot_sample.drop(labels=target_label, axis='columns')\n",
    "        boot_y = boot_sample[target_label]\n",
    "        boot_X_train, boot_X_test, boot_y_train, boot_y_test = train_test_split(boot_X, \n",
    "                                                                                boot_y, \n",
    "                                                                                test_size=TEST_SIZE)\n",
    "        # build & eval the model\n",
    "        fit_fun(boot_X_train, boot_y_train)\n",
    "        predictions = predict_fun(boot_X_test)\n",
    "        score = accuracy_score(boot_y_test, predictions)\n",
    "        # save the score for this bootstrap sample\n",
    "        stats.append(score)\n",
    "    print('')\n",
    "    # confidence intervals\n",
    "    p = ((1.0-alpha)/2.0) * 100\n",
    "    lower = max(0.0, np.percentile(stats, p))\n",
    "    p = (alpha+((1.0-alpha)/2.0)) * 100\n",
    "    upper = min(1.0, np.percentile(stats, p))\n",
    "    # average performance\n",
    "    avg_acc = sum(stats)/n_iterations\n",
    "\n",
    "    return lower, upper, avg_acc, stats"
   ]
  },
  {
   "cell_type": "code",
   "execution_count": 4,
   "metadata": {},
   "outputs": [
    {
     "name": "stdout",
     "output_type": "stream",
     "text": [
      "found empty text @ 106...dropping\n",
      "found empty text @ 710...dropping\n",
      "found empty text @ 806...dropping\n",
      "found empty text @ 919...dropping\n",
      "found empty text @ 940...dropping\n",
      "found empty text @ 1664...dropping\n",
      "found empty text @ 1736...dropping\n",
      "found empty text @ 1851...dropping\n",
      "found empty text @ 1883...dropping\n",
      "found empty text @ 1941...dropping\n",
      "found empty text @ 2244...dropping\n",
      "found empty text @ 2426...dropping\n",
      "found empty text @ 2576...dropping\n",
      "found empty text @ 2662...dropping\n",
      "found empty text @ 2788...dropping\n",
      "found empty text @ 2832...dropping\n",
      "found empty text @ 3073...dropping\n",
      "found empty text @ 3350...dropping\n",
      "found empty text @ 3511...dropping\n",
      "found empty text @ 3641...dropping\n",
      "found empty text @ 3642...dropping\n",
      "found empty text @ 4014...dropping\n",
      "found empty text @ 4142...dropping\n",
      "found empty text @ 4253...dropping\n",
      "found empty text @ 4713...dropping\n",
      "found empty text @ 4744...dropping\n",
      "found empty text @ 5017...dropping\n",
      "found empty text @ 5088...dropping\n",
      "found empty text @ 5213...dropping\n",
      "found empty text @ 5581...dropping\n",
      "found empty text @ 5639...dropping\n",
      "found empty text @ 5699...dropping\n",
      "found empty text @ 5772...dropping\n",
      "found empty text @ 6064...dropping\n",
      "found empty text @ 6175...dropping\n",
      "found empty text @ 6328...dropping\n"
     ]
    }
   ],
   "source": [
    "# read in our data and clean it\n",
    "# NOTE: the data file contains empty 'text' entries\n",
    "\n",
    "df = pd.read_csv(DATA_FILE)\n",
    "df.drop(labels=['id','title'], axis='columns', inplace=True)\n",
    "\n",
    "def drop_empty_rows(df):\n",
    "    drop_list = []\n",
    "    for i in range(df.shape[0]):\n",
    "        if df.loc[i,'text'].isspace():\n",
    "            print(\"found empty text @ {}...dropping\".format(i))\n",
    "            drop_list.append(i)\n",
    "    new_df = df.drop(labels=drop_list, axis='index')\n",
    "    new_index = [i for i in range(new_df.shape[0])]\n",
    "    new_df.index = new_index\n",
    "    return new_df\n",
    "\n",
    "df = drop_empty_rows(df)"
   ]
  },
  {
   "cell_type": "code",
   "execution_count": 5,
   "metadata": {},
   "outputs": [
    {
     "name": "stdout",
     "output_type": "stream",
     "text": [
      "(6299, 2)\n"
     ]
    }
   ],
   "source": [
    "print(df.shape)"
   ]
  },
  {
   "cell_type": "code",
   "execution_count": 6,
   "metadata": {
    "collapsed": true
   },
   "outputs": [],
   "source": [
    "# sample down our data set\n",
    "\n",
    "df = df.sample(n=N_SAMPLE, axis='index')"
   ]
  },
  {
   "cell_type": "code",
   "execution_count": 7,
   "metadata": {},
   "outputs": [
    {
     "name": "stdout",
     "output_type": "stream",
     "text": [
      "1005 995\n"
     ]
    }
   ],
   "source": [
    "# show that the sample data is pretty balanced\n",
    "print(len(df[df['label'] == 'REAL']), len(df[df['label'] == 'FAKE']))"
   ]
  },
  {
   "cell_type": "code",
   "execution_count": 8,
   "metadata": {
    "collapsed": true
   },
   "outputs": [],
   "source": [
    "X = df['text']\n",
    "y = df['label']"
   ]
  },
  {
   "cell_type": "code",
   "execution_count": 9,
   "metadata": {
    "collapsed": true
   },
   "outputs": [],
   "source": [
    "# convert labels to numeric labels\n",
    "# NOTE: DNNs need numeric labels\n",
    "\n",
    "def convert(x):\n",
    "    if x == 'FAKE':\n",
    "        return 0.0\n",
    "    else:\n",
    "        return 1.0\n"
   ]
  },
  {
   "cell_type": "markdown",
   "metadata": {},
   "source": [
    "## Syntactic Features"
   ]
  },
  {
   "cell_type": "code",
   "execution_count": 10,
   "metadata": {},
   "outputs": [],
   "source": [
    "# set up vector models for training and testing\n",
    "\n",
    "from sklearn.feature_extraction.text import CountVectorizer\n",
    "\n",
    "# data vectorizer\n",
    "vectorizer = CountVectorizer(analyzer = \"word\", \n",
    "                             binary = True, \n",
    "                             min_df = 2,\n",
    "                             stop_words='english')\n",
    "docarray = vectorizer.fit_transform(X).toarray()\n",
    "docterm = pd.DataFrame(docarray, columns=vectorizer.get_feature_names())"
   ]
  },
  {
   "cell_type": "code",
   "execution_count": 11,
   "metadata": {},
   "outputs": [
    {
     "name": "stdout",
     "output_type": "stream",
     "text": [
      "(2000, 24036)\n"
     ]
    }
   ],
   "source": [
    "print(docterm.shape)"
   ]
  },
  {
   "cell_type": "code",
   "execution_count": 12,
   "metadata": {
    "collapsed": true
   },
   "outputs": [],
   "source": [
    "# create training and test data\n",
    "from sklearn.model_selection import train_test_split\n",
    "docterm_train, docterm_test, y_train, y_test = train_test_split(docterm, y, test_size=TEST_SIZE)"
   ]
  },
  {
   "cell_type": "code",
   "execution_count": 13,
   "metadata": {},
   "outputs": [],
   "source": [
    "# data for accuracy confidence interval and average accuracy\n",
    "\n",
    "data = docterm.copy()\n",
    "data['_label_'] = y.values\n",
    "\n",
    "# dnn data has to be all numerical\n",
    "dnn_data = docterm.copy()\n",
    "dnn_data['_label_'] = y.apply(convert).values"
   ]
  },
  {
   "cell_type": "markdown",
   "metadata": {},
   "source": [
    "### Naive Bayes"
   ]
  },
  {
   "cell_type": "code",
   "execution_count": 14,
   "metadata": {},
   "outputs": [
    {
     "name": "stdout",
     "output_type": "stream",
     "text": [
      "Training Accuracy:  95.62%\n",
      "Testing Accuracy:  88.75%\n"
     ]
    }
   ],
   "source": [
    "# Naive Bayes Model - train & test\n",
    "from sklearn.naive_bayes import MultinomialNB\n",
    "model = MultinomialNB()\n",
    "model.fit(docterm_train, y_train)\n",
    "\n",
    "# evaluate model\n",
    "evaluate_model(model.predict, docterm_train, y_train, docterm_test, y_test)"
   ]
  },
  {
   "cell_type": "code",
   "execution_count": 15,
   "metadata": {},
   "outputs": [
    {
     "name": "stdout",
     "output_type": "stream",
     "text": [
      "Computing bootstrap samples: 0 1 2 3 4 5 6 7 8 9 10 11 12 13 14 15 16 17 18 19 20 21 22 23 24 25 26 27 28 29 30 31 32 33 34 35 36 37 38 39 40 41 42 43 44 45 46 47 48 49 \n",
      "95.00% confidence interval 89.42% and 93.75%\n",
      "Average accuracy: 91.97%\n"
     ]
    }
   ],
   "source": [
    "# Naive Bayes Model - accuracy confidence interval & average accuracy\n",
    "\n",
    "lb, ub, ave_acc, scores = bootstrap_conf(model.fit, \n",
    "                                         model.predict, \n",
    "                                         data, \n",
    "                                         '_label_', \n",
    "                                         N_ITERATIONS, \n",
    "                                         ALPHA)\n",
    "print('{:.2f}% confidence interval {:.2f}% and {:.2f}%'.format(ALPHA*100, lb*100, ub*100))\n",
    "print(\"Average accuracy: {:.2f}%\".format(ave_acc*100))"
   ]
  },
  {
   "cell_type": "code",
   "execution_count": 16,
   "metadata": {},
   "outputs": [
    {
     "data": {
      "image/png": "[encoded data removed]",
      "text/plain": [
       "<matplotlib.figure.Figure at 0x11729ce48>"
      ]
     },
     "metadata": {},
     "output_type": "display_data"
    }
   ],
   "source": [
    "# plot scores\n",
    "from matplotlib import pyplot\n",
    "pyplot.hist(scores)\n",
    "pyplot.show()"
   ]
  },
  {
   "cell_type": "markdown",
   "metadata": {},
   "source": [
    "### Random Forest"
   ]
  },
  {
   "cell_type": "code",
   "execution_count": 17,
   "metadata": {},
   "outputs": [
    {
     "name": "stdout",
     "output_type": "stream",
     "text": [
      "Training Accuracy:  94.12%\n",
      "Testing Accuracy:  78.25%\n"
     ]
    }
   ],
   "source": [
    "# Random Forest Model - train & test\n",
    "from sklearn.ensemble import RandomForestClassifier\n",
    "model = RandomForestClassifier(min_samples_split=60)\n",
    "model.fit(docterm_train, y_train)\n",
    "\n",
    "# evaluate model\n",
    "evaluate_model(model.predict, docterm_train, y_train, docterm_test, y_test)"
   ]
  },
  {
   "cell_type": "code",
   "execution_count": 18,
   "metadata": {
    "scrolled": true
   },
   "outputs": [
    {
     "name": "stdout",
     "output_type": "stream",
     "text": [
      "Computing bootstrap samples: 0 1 2 3 4 5 6 7 8 9 10 11 12 13 14 15 16 17 18 19 20 21 22 23 24 25 26 27 28 29 30 31 32 33 34 35 36 37 38 39 40 41 42 43 44 45 46 47 48 49 \n",
      "95.00% confidence interval 83.86% and 91.19%\n",
      "Average accuracy: 87.86%\n"
     ]
    }
   ],
   "source": [
    "# Random Forest Model - accuracy confidence interval & average accuracy\n",
    "\n",
    "lb, ub, ave_acc, scores = bootstrap_conf(model.fit, \n",
    "                                         model.predict, \n",
    "                                         data, \n",
    "                                         '_label_', \n",
    "                                         N_ITERATIONS, \n",
    "                                         ALPHA)\n",
    "print('{:.2f}% confidence interval {:.2f}% and {:.2f}%'.format(ALPHA*100, lb*100, ub*100))\n",
    "print(\"Average accuracy: {:.2f}%\".format(ave_acc*100))"
   ]
  },
  {
   "cell_type": "code",
   "execution_count": 19,
   "metadata": {},
   "outputs": [
    {
     "data": {
      "image/png": "[encoded data removed]",
      "text/plain": [
       "<matplotlib.figure.Figure at 0x1185c3518>"
      ]
     },
     "metadata": {},
     "output_type": "display_data"
    }
   ],
   "source": [
    "# plot scores\n",
    "from matplotlib import pyplot\n",
    "pyplot.hist(scores)\n",
    "pyplot.show()"
   ]
  },
  {
   "cell_type": "markdown",
   "metadata": {},
   "source": [
    "### Deep Neural Network"
   ]
  },
  {
   "cell_type": "code",
   "execution_count": 20,
   "metadata": {},
   "outputs": [
    {
     "name": "stderr",
     "output_type": "stream",
     "text": [
      "Using TensorFlow backend.\n"
     ]
    }
   ],
   "source": [
    "# DNN\n",
    "import numpy as np\n",
    "from keras.models import Sequential\n",
    "from keras.layers import Dense, Dropout\n",
    "\n",
    "# build the model\n",
    "model = Sequential()\n",
    "model.add(Dense(1024, input_dim=docterm_train.shape[1], activation='relu'))\n",
    "model.add(Dropout(0.5))\n",
    "model.add(Dense(512, activation='relu'))\n",
    "model.add(Dropout(0.5))\n",
    "model.add(Dense(512, activation='relu'))\n",
    "model.add(Dropout(0.5))\n",
    "model.add(Dense(128, activation='relu'))\n",
    "model.add(Dropout(0.5))\n",
    "model.add(Dense(64, activation='relu'))\n",
    "model.add(Dropout(0.5))\n",
    "model.add(Dense(1, activation='sigmoid'))\n",
    "\n",
    "model.compile(loss='binary_crossentropy',\n",
    "              optimizer='rmsprop',\n",
    "              metrics=['accuracy'])"
   ]
  },
  {
   "cell_type": "code",
   "execution_count": 21,
   "metadata": {},
   "outputs": [
    {
     "name": "stdout",
     "output_type": "stream",
     "text": [
      "Train on 1600 samples, validate on 400 samples\n",
      "Epoch 1/5\n",
      "1600/1600 [==============================] - 21s 13ms/step - loss: 0.7173 - acc: 0.5369 - val_loss: 0.6213 - val_acc: 0.8175\n",
      "Epoch 2/5\n",
      "1600/1600 [==============================] - 18s 12ms/step - loss: 0.5918 - acc: 0.7019 - val_loss: 0.3753 - val_acc: 0.8700\n",
      "Epoch 3/5\n",
      "1600/1600 [==============================] - 15s 9ms/step - loss: 0.3161 - acc: 0.8881 - val_loss: 0.3052 - val_acc: 0.8925\n",
      "Epoch 4/5\n",
      "1600/1600 [==============================] - 12s 8ms/step - loss: 0.1337 - acc: 0.9506 - val_loss: 0.2868 - val_acc: 0.9075\n",
      "Epoch 5/5\n",
      "1600/1600 [==============================] - 13s 8ms/step - loss: 0.0388 - acc: 0.9950 - val_loss: 0.4044 - val_acc: 0.9125\n"
     ]
    },
    {
     "data": {
      "text/plain": [
       "<keras.callbacks.History at 0x10b5206a0>"
      ]
     },
     "execution_count": 21,
     "metadata": {},
     "output_type": "execute_result"
    }
   ],
   "source": [
    "model.fit(docterm_train, y_train.apply(convert),\n",
    "          epochs=5,\n",
    "          batch_size=128,\n",
    "          validation_data=(docterm_test, y_test.apply(convert)))"
   ]
  },
  {
   "cell_type": "code",
   "execution_count": 22,
   "metadata": {},
   "outputs": [
    {
     "name": "stdout",
     "output_type": "stream",
     "text": [
      "Training Accuracy:  99.88%\n",
      "Testing Accuracy:  91.25%\n"
     ]
    }
   ],
   "source": [
    "# evaluate model\n",
    "\n",
    "evaluate_model(model.predict_classes, docterm_train, y_train.apply(convert), docterm_test, y_test.apply(convert))"
   ]
  },
  {
   "cell_type": "code",
   "execution_count": 23,
   "metadata": {},
   "outputs": [
    {
     "name": "stdout",
     "output_type": "stream",
     "text": [
      "Computing bootstrap samples: 0 1 2 3 4 5 6 7 8 9 10 11 12 13 14 15 16 17 18 19 20 21 22 23 24 25 26 27 28 29 30 31 32 33 34 35 36 37 38 39 40 41 42 43 44 45 46 47 48 49 \n",
      "95.00% confidence interval 99.17% and 100.00%\n",
      "Average accuracy: 99.94%\n"
     ]
    }
   ],
   "source": [
    "# DNN - accuracy confidence interval & average accuracy\n",
    "\n",
    "def dnn_model_fit(X, y):\n",
    "    model.fit(X, \n",
    "              y,\n",
    "              epochs=2,\n",
    "              batch_size=128,\n",
    "              verbose=0)\n",
    "\n",
    "lb, ub, ave_acc, scores = bootstrap_conf(dnn_model_fit, \n",
    "                                         model.predict_classes, \n",
    "                                         dnn_data, \n",
    "                                         '_label_', \n",
    "                                         N_ITERATIONS, \n",
    "                                         ALPHA)\n",
    "print('{:.2f}% confidence interval {:.2f}% and {:.2f}%'.format(ALPHA*100, lb*100, ub*100))\n",
    "print(\"Average accuracy: {:.2f}%\".format(ave_acc*100))"
   ]
  },
  {
   "cell_type": "code",
   "execution_count": 24,
   "metadata": {},
   "outputs": [
    {
     "data": {
      "image/png": "[encoded data removed]",
      "text/plain": [
       "<matplotlib.figure.Figure at 0x179f8abe0>"
      ]
     },
     "metadata": {},
     "output_type": "display_data"
    }
   ],
   "source": [
    "# plot scores\n",
    "from matplotlib import pyplot\n",
    "pyplot.hist(scores)\n",
    "pyplot.show()"
   ]
  },
  {
   "cell_type": "markdown",
   "metadata": {},
   "source": [
    "## Semantic Features"
   ]
  },
  {
   "cell_type": "code",
   "execution_count": 25,
   "metadata": {},
   "outputs": [],
   "source": [
    "# Load Spacy semantic model\n",
    "\n",
    "import spacy\n",
    "\n",
    "EMBEDDING_DIM = 300\n",
    "\n",
    "# NOTE: for performance reasons disable everything in the pipeline except the tokenizer\n",
    "nlp = spacy.load('en_core_web_lg', disable=['parser', 'tagger', 'ner', 'textcat'])"
   ]
  },
  {
   "cell_type": "code",
   "execution_count": 26,
   "metadata": {},
   "outputs": [
    {
     "name": "stdout",
     "output_type": "stream",
     "text": [
      "(2000,)\n"
     ]
    }
   ],
   "source": [
    "# preprocess text for semantic features\n",
    "\n",
    "def embed(X):\n",
    "    '''\n",
    "    x is a list of strings and embed will compute\n",
    "    an embedding vector for each and return an array\n",
    "    of shape (len(x),EMBEDDING_DIM)\n",
    "    '''\n",
    "    vectors = []\n",
    "    text_array = np.array(X)\n",
    "\n",
    "    print(text_array.shape)\n",
    "    \n",
    "    for i in range(text_array.shape[0]):\n",
    "        vector = nlp(text_array[i]).vector\n",
    "        vectors.append(vector)\n",
    "    \n",
    "    return pd.DataFrame(vectors)\n",
    "\n",
    "vectors = embed(X)"
   ]
  },
  {
   "cell_type": "code",
   "execution_count": 27,
   "metadata": {
    "collapsed": true
   },
   "outputs": [],
   "source": [
    "# create training and test data\n",
    "from sklearn.model_selection import train_test_split\n",
    "vectors_train, vectors_test, y_train, y_test = train_test_split(vectors, \n",
    "                                                                y.apply(convert), \n",
    "                                                                test_size=TEST_SIZE)"
   ]
  },
  {
   "cell_type": "code",
   "execution_count": 28,
   "metadata": {
    "collapsed": true
   },
   "outputs": [],
   "source": [
    "# data for accuracy confidence interval and average accuracy\n",
    "\n",
    "data = vectors.copy()\n",
    "data['_label_'] = y.values\n",
    "\n",
    "# dnn data has to be all numerical\n",
    "dnn_data = vectors.copy()\n",
    "dnn_data['_label_'] = y.apply(convert).values"
   ]
  },
  {
   "cell_type": "markdown",
   "metadata": {},
   "source": [
    "### Naive Bayes"
   ]
  },
  {
   "cell_type": "code",
   "execution_count": 29,
   "metadata": {},
   "outputs": [
    {
     "name": "stdout",
     "output_type": "stream",
     "text": [
      "Training Accuracy:  73.31%\n",
      "Testing Accuracy:  72.75%\n"
     ]
    }
   ],
   "source": [
    "# Naive Bayes Model \n",
    "from sklearn.naive_bayes import GaussianNB\n",
    "model = GaussianNB()\n",
    "model.fit(vectors_train,y_train)\n",
    "\n",
    "# evaluate model\n",
    "evaluate_model(model.predict, vectors_train, y_train, vectors_test, y_test)"
   ]
  },
  {
   "cell_type": "code",
   "execution_count": 30,
   "metadata": {},
   "outputs": [
    {
     "name": "stdout",
     "output_type": "stream",
     "text": [
      "Computing bootstrap samples: 0 1 2 3 4 5 6 7 8 9 10 11 12 13 14 15 16 17 18 19 20 21 22 23 24 25 26 27 28 29 30 31 32 33 34 35 36 37 38 39 40 41 42 43 44 45 46 47 48 49 \n",
      "95.00% confidence interval 65.75% and 75.94%\n",
      "Average accuracy: 71.43%\n"
     ]
    }
   ],
   "source": [
    "# Naive Bayes Model - accuracy confidence interval & average accuracy\n",
    "\n",
    "lb, ub, ave_acc, scores = bootstrap_conf(model.fit, \n",
    "                                         model.predict, \n",
    "                                         data, \n",
    "                                         '_label_', \n",
    "                                         N_ITERATIONS, \n",
    "                                         ALPHA)\n",
    "print('{:.2f}% confidence interval {:.2f}% and {:.2f}%'.format(ALPHA*100, lb*100, ub*100))\n",
    "print(\"Average accuracy: {:.2f}%\".format(ave_acc*100))"
   ]
  },
  {
   "cell_type": "code",
   "execution_count": 31,
   "metadata": {},
   "outputs": [
    {
     "data": {
      "image/png": "[encoded data removed]",
      "text/plain": [
       "<matplotlib.figure.Figure at 0x1876b0ef0>"
      ]
     },
     "metadata": {},
     "output_type": "display_data"
    }
   ],
   "source": [
    "# plot scores\n",
    "from matplotlib import pyplot\n",
    "pyplot.hist(scores)\n",
    "pyplot.show()"
   ]
  },
  {
   "cell_type": "markdown",
   "metadata": {},
   "source": [
    "### Random Forest"
   ]
  },
  {
   "cell_type": "code",
   "execution_count": 32,
   "metadata": {},
   "outputs": [
    {
     "name": "stdout",
     "output_type": "stream",
     "text": [
      "Training Accuracy:  98.69%\n",
      "Testing Accuracy:  83.25%\n"
     ]
    }
   ],
   "source": [
    "# Random Forest Model \n",
    "from sklearn.ensemble import RandomForestClassifier\n",
    "model = RandomForestClassifier(min_samples_split=10)\n",
    "model.fit(vectors_train, y_train)\n",
    "\n",
    "# evaluate model\n",
    "evaluate_model(model.predict, vectors_train, y_train, vectors_test, y_test)"
   ]
  },
  {
   "cell_type": "code",
   "execution_count": 33,
   "metadata": {},
   "outputs": [
    {
     "name": "stdout",
     "output_type": "stream",
     "text": [
      "Computing bootstrap samples: 0 1 2 3 4 5 6 7 8 9 10 11 12 13 14 15 16 17 18 19 20 21 22 23 24 25 26 27 28 29 30 31 32 33 34 35 36 37 38 39 40 41 42 43 44 45 46 47 48 49 \n",
      "95.00% confidence interval 87.81% and 93.75%\n",
      "Average accuracy: 90.85%\n"
     ]
    }
   ],
   "source": [
    "# Random Forest Model - accuracy confidence interval & average accuracy\n",
    "\n",
    "lb, ub, ave_acc, scores = bootstrap_conf(model.fit, \n",
    "                                         model.predict, \n",
    "                                         data, \n",
    "                                         '_label_', \n",
    "                                         N_ITERATIONS, \n",
    "                                         ALPHA)\n",
    "print('{:.2f}% confidence interval {:.2f}% and {:.2f}%'.format(ALPHA*100, lb*100, ub*100))\n",
    "print(\"Average accuracy: {:.2f}%\".format(ave_acc*100))"
   ]
  },
  {
   "cell_type": "code",
   "execution_count": 34,
   "metadata": {},
   "outputs": [
    {
     "data": {
      "image/png": "[encoded data removed]",
      "text/plain": [
       "<matplotlib.figure.Figure at 0x18967f0f0>"
      ]
     },
     "metadata": {},
     "output_type": "display_data"
    }
   ],
   "source": [
    "# plot scores\n",
    "from matplotlib import pyplot\n",
    "pyplot.hist(scores)\n",
    "pyplot.show()"
   ]
  },
  {
   "cell_type": "markdown",
   "metadata": {},
   "source": [
    "### Deep Neural Network"
   ]
  },
  {
   "cell_type": "code",
   "execution_count": 35,
   "metadata": {},
   "outputs": [
    {
     "name": "stdout",
     "output_type": "stream",
     "text": [
      "Train on 1600 samples, validate on 400 samples\n",
      "Epoch 1/15\n",
      "1600/1600 [==============================] - 7s 4ms/step - loss: 0.7034 - acc: 0.5150 - val_loss: 0.6850 - val_acc: 0.7000\n",
      "Epoch 2/15\n",
      "1600/1600 [==============================] - 1s 431us/step - loss: 0.6837 - acc: 0.5463 - val_loss: 0.6628 - val_acc: 0.6775\n",
      "Epoch 3/15\n",
      "1600/1600 [==============================] - 1s 313us/step - loss: 0.6580 - acc: 0.6125 - val_loss: 0.5887 - val_acc: 0.7875\n",
      "Epoch 4/15\n",
      "1600/1600 [==============================] - 1s 410us/step - loss: 0.6038 - acc: 0.6737 - val_loss: 0.6625 - val_acc: 0.5725\n",
      "Epoch 5/15\n",
      "1600/1600 [==============================] - 1s 405us/step - loss: 0.5455 - acc: 0.7425 - val_loss: 0.4535 - val_acc: 0.8000\n",
      "Epoch 6/15\n",
      "1600/1600 [==============================] - 0s 308us/step - loss: 0.5038 - acc: 0.7737 - val_loss: 0.6234 - val_acc: 0.6550\n",
      "Epoch 7/15\n",
      "1600/1600 [==============================] - 1s 454us/step - loss: 0.4699 - acc: 0.7994 - val_loss: 0.4051 - val_acc: 0.8325\n",
      "Epoch 8/15\n",
      "1600/1600 [==============================] - 1s 387us/step - loss: 0.4391 - acc: 0.8188 - val_loss: 0.3596 - val_acc: 0.8575\n",
      "Epoch 9/15\n",
      "1600/1600 [==============================] - 1s 579us/step - loss: 0.4150 - acc: 0.8231 - val_loss: 0.3819 - val_acc: 0.8300\n",
      "Epoch 10/15\n",
      "1600/1600 [==============================] - 1s 516us/step - loss: 0.4072 - acc: 0.8375 - val_loss: 0.3415 - val_acc: 0.8675\n",
      "Epoch 11/15\n",
      "1600/1600 [==============================] - 1s 479us/step - loss: 0.3737 - acc: 0.8425 - val_loss: 0.3491 - val_acc: 0.8600\n",
      "Epoch 12/15\n",
      "1600/1600 [==============================] - 1s 645us/step - loss: 0.3860 - acc: 0.8313 - val_loss: 0.4127 - val_acc: 0.8275\n",
      "Epoch 13/15\n",
      "1600/1600 [==============================] - 1s 519us/step - loss: 0.3666 - acc: 0.8506 - val_loss: 0.3990 - val_acc: 0.8325\n",
      "Epoch 14/15\n",
      "1600/1600 [==============================] - 1s 393us/step - loss: 0.3346 - acc: 0.8612 - val_loss: 0.3416 - val_acc: 0.8675\n",
      "Epoch 15/15\n",
      "1600/1600 [==============================] - 1s 415us/step - loss: 0.3594 - acc: 0.8519 - val_loss: 0.2998 - val_acc: 0.8825\n"
     ]
    },
    {
     "data": {
      "text/plain": [
       "<keras.callbacks.History at 0x1189765f8>"
      ]
     },
     "execution_count": 35,
     "metadata": {},
     "output_type": "execute_result"
    }
   ],
   "source": [
    "# DNN - MLP\n",
    "from keras.models import Sequential\n",
    "from keras.layers import Dense, Dropout\n",
    "\n",
    "# build the model\n",
    "model = Sequential()\n",
    "model.add(Dense(256, input_dim=EMBEDDING_DIM, activation='relu'))\n",
    "model.add(Dropout(0.5))\n",
    "model.add(Dense(256, activation='relu'))\n",
    "model.add(Dropout(0.5))\n",
    "model.add(Dense(128, activation='relu'))\n",
    "model.add(Dropout(0.5))\n",
    "model.add(Dense(64, activation='relu'))\n",
    "model.add(Dropout(0.5))\n",
    "model.add(Dense(1, activation='sigmoid'))\n",
    "\n",
    "model.compile(loss='binary_crossentropy',\n",
    "              optimizer='rmsprop',\n",
    "              metrics=['accuracy'])\n",
    "\n",
    "model.fit(vectors_train, y_train,\n",
    "          epochs=15,\n",
    "          batch_size=128,\n",
    "          validation_data=(vectors_test, y_test))"
   ]
  },
  {
   "cell_type": "code",
   "execution_count": 36,
   "metadata": {},
   "outputs": [
    {
     "name": "stdout",
     "output_type": "stream",
     "text": [
      "Training Accuracy:  90.12%\n",
      "Testing Accuracy:  88.25%\n"
     ]
    }
   ],
   "source": [
    "# evaluate model\n",
    "\n",
    "evaluate_model(model.predict_classes, vectors_train, y_train, vectors_test, y_test)"
   ]
  },
  {
   "cell_type": "code",
   "execution_count": 37,
   "metadata": {},
   "outputs": [
    {
     "name": "stdout",
     "output_type": "stream",
     "text": [
      "Computing bootstrap samples: 0 1 2 3 4 5 6 7 8 9 10 11 12 13 14 15 16 17 18 19 20 21 22 23 24 25 26 27 28 29 30 31 32 33 34 35 36 37 38 39 40 41 42 43 44 45 46 47 48 49 \n",
      "95.00% confidence interval 93.42% and 100.00%\n",
      "Average accuracy: 98.80%\n"
     ]
    }
   ],
   "source": [
    "# DNN - accuracy confidence interval & average accuracy\n",
    "\n",
    "def dnn_model_fit(X, y):\n",
    "    model.fit(X, \n",
    "              y,\n",
    "              epochs=15,\n",
    "              batch_size=128,\n",
    "              verbose=0)\n",
    "\n",
    "lb, ub, ave_acc, scores = bootstrap_conf(dnn_model_fit, \n",
    "                                         model.predict_classes, \n",
    "                                         dnn_data, \n",
    "                                         '_label_', \n",
    "                                         N_ITERATIONS, \n",
    "                                         ALPHA)\n",
    "print('{:.2f}% confidence interval {:.2f}% and {:.2f}%'.format(ALPHA*100, lb*100, ub*100))\n",
    "print(\"Average accuracy: {:.2f}%\".format(ave_acc*100))"
   ]
  },
  {
   "cell_type": "code",
   "execution_count": 38,
   "metadata": {},
   "outputs": [
    {
     "data": {
      "image/png": "[encoded data removed]",
      "text/plain": [
       "<matplotlib.figure.Figure at 0x14aa607f0>"
      ]
     },
     "metadata": {},
     "output_type": "display_data"
    }
   ],
   "source": [
    "# plot scores\n",
    "from matplotlib import pyplot\n",
    "pyplot.hist(scores)\n",
    "pyplot.show()"
   ]
  },
  {
   "cell_type": "code",
   "execution_count": null,
   "metadata": {
    "collapsed": true
   },
   "outputs": [],
   "source": []
  }
 ],
 "metadata": {
  "kernelspec": {
   "display_name": "Python 3",
   "language": "python",
   "name": "python3"
  },
  "language_info": {
   "codemirror_mode": {
    "name": "ipython",
    "version": 3
   },
   "file_extension": ".py",
   "mimetype": "text/x-python",
   "name": "python",
   "nbconvert_exporter": "python",
   "pygments_lexer": "ipython3",
   "version": "3.6.1"
  }
 },
 "nbformat": 4,
 "nbformat_minor": 2
}
