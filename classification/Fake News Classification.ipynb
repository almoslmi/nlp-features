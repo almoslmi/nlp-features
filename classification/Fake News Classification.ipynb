{
 "cells": [
  {
   "cell_type": "code",
   "execution_count": 1,
   "metadata": {
    "collapsed": true
   },
   "outputs": [],
   "source": [
    "# setup our environment\n",
    "\n",
    "import pandas as pd\n",
    "import numpy as np\n",
    "\n",
    "DATA_FILE = \"data/fake_or_real_news.csv\"\n",
    "TEST_SIZE = 0.2"
   ]
  },
  {
   "cell_type": "code",
   "execution_count": 2,
   "metadata": {
    "collapsed": true
   },
   "outputs": [],
   "source": [
    "# define a function that allows us to evaluate our models\n",
    "\n",
    "from sklearn.metrics import accuracy_score\n",
    "\n",
    "def evaluate_model(predict_fun, X_train, y_train, X_test, y_test):\n",
    "    '''\n",
    "    evaluate the model, both training and testing errors are reported\n",
    "    '''\n",
    "    # training error\n",
    "    y_predict_train = predict_fun(X_train)\n",
    "    train_acc = accuracy_score(y_train,y_predict_train)\n",
    "    \n",
    "    # testing error\n",
    "    y_predict_test = predict_fun(X_test)\n",
    "    test_acc = accuracy_score(y_test,y_predict_test)\n",
    "    \n",
    "    return train_acc, test_acc"
   ]
  },
  {
   "cell_type": "code",
   "execution_count": 3,
   "metadata": {
    "collapsed": true
   },
   "outputs": [],
   "source": [
    "# estimate 95% confidence interval on error\n",
    "\n",
    "# NOTE: based on conversation on stackexchange: \n",
    "# https://stats.stackexchange.com/questions/247551/how-to-determine-the-confidence-of-a-neural-network-prediction\n",
    "# towards bottom of the page.\n",
    "\n",
    "from math import sqrt\n",
    "\n",
    "def error_conf(error, n):\n",
    "    term = 1.96*sqrt((error*(1-error))/n)\n",
    "    lb = error - term\n",
    "    ub = error + term\n",
    "    \n",
    "    return lb, ub"
   ]
  },
  {
   "cell_type": "code",
   "execution_count": 4,
   "metadata": {
    "collapsed": true
   },
   "outputs": [],
   "source": [
    "# read in our data and preprocess it\n",
    "# Note: the news items in the data set range from 0 words to 100,000 words\n",
    "# we restrict ourselves to news items between 500 and 5,000 words.\n",
    "\n",
    "df = pd.read_csv(DATA_FILE)\n",
    "df.drop(labels=['id','title'], axis='columns', inplace=True)\n",
    "# only select stories with between 500 and 5000 words\n",
    "mask = list(df['text'].apply(lambda x: len(x) >= 500 and len(x) <= 5000))\n",
    "df = df[mask]"
   ]
  },
  {
   "cell_type": "code",
   "execution_count": 5,
   "metadata": {},
   "outputs": [
    {
     "name": "stdout",
     "output_type": "stream",
     "text": [
      "(3510, 2)\n"
     ]
    }
   ],
   "source": [
    "print(df.shape)"
   ]
  },
  {
   "cell_type": "code",
   "execution_count": 6,
   "metadata": {},
   "outputs": [
    {
     "name": "stdout",
     "output_type": "stream",
     "text": [
      "1472 2038\n"
     ]
    }
   ],
   "source": [
    "# show that the sample data is pretty balanced\n",
    "print(len(df[df['label'] == 'REAL']), len(df[df['label'] == 'FAKE']))"
   ]
  },
  {
   "cell_type": "code",
   "execution_count": 7,
   "metadata": {
    "collapsed": true
   },
   "outputs": [],
   "source": [
    "X = df['text']\n",
    "y = df['label']"
   ]
  },
  {
   "cell_type": "code",
   "execution_count": 8,
   "metadata": {
    "collapsed": true
   },
   "outputs": [],
   "source": [
    "# convert labels to numeric labels\n",
    "# NOTE: DNNs need numeric labels\n",
    "\n",
    "def convert(x):\n",
    "    if x == 'FAKE':\n",
    "        return 0.0\n",
    "    else:\n",
    "        return 1.0\n"
   ]
  },
  {
   "cell_type": "markdown",
   "metadata": {},
   "source": [
    "## Syntactic Features"
   ]
  },
  {
   "cell_type": "code",
   "execution_count": 9,
   "metadata": {
    "collapsed": true
   },
   "outputs": [],
   "source": [
    "# set up vector models for training and testing\n",
    "\n",
    "from sklearn.feature_extraction.text import CountVectorizer\n",
    "\n",
    "# data vectorizer\n",
    "vectorizer = CountVectorizer(analyzer = \"word\", \n",
    "                             binary = True, \n",
    "                             min_df = 2,\n",
    "                             stop_words='english')\n",
    "docarray = vectorizer.fit_transform(X).toarray()\n",
    "docterm = pd.DataFrame(docarray, columns=vectorizer.get_feature_names())"
   ]
  },
  {
   "cell_type": "code",
   "execution_count": 10,
   "metadata": {},
   "outputs": [
    {
     "name": "stdout",
     "output_type": "stream",
     "text": [
      "(3510, 23516)\n"
     ]
    }
   ],
   "source": [
    "print(docterm.shape)"
   ]
  },
  {
   "cell_type": "code",
   "execution_count": 11,
   "metadata": {
    "collapsed": true
   },
   "outputs": [],
   "source": [
    "# create training and test data\n",
    "from sklearn.model_selection import train_test_split\n",
    "docterm_train, docterm_test, y_train, y_test = train_test_split(docterm, y, test_size=TEST_SIZE)"
   ]
  },
  {
   "cell_type": "markdown",
   "metadata": {},
   "source": [
    "### Naive Bayes"
   ]
  },
  {
   "cell_type": "code",
   "execution_count": 12,
   "metadata": {},
   "outputs": [
    {
     "data": {
      "text/plain": [
       "MultinomialNB(alpha=1.0, class_prior=None, fit_prior=True)"
      ]
     },
     "execution_count": 12,
     "metadata": {},
     "output_type": "execute_result"
    }
   ],
   "source": [
    "# Naive Bayes Model - train & test\n",
    "from sklearn.naive_bayes import MultinomialNB\n",
    "model = MultinomialNB()\n",
    "model.fit(docterm_train, y_train)"
   ]
  },
  {
   "cell_type": "code",
   "execution_count": 13,
   "metadata": {},
   "outputs": [
    {
     "name": "stdout",
     "output_type": "stream",
     "text": [
      "Training Accuracy: 96.44%\n",
      "Testing Accuracy: 87.46%\n"
     ]
    }
   ],
   "source": [
    "# evaluate model\n",
    "train_acc, test_acc = evaluate_model(model.predict, docterm_train, y_train, docterm_test, y_test)\n",
    "print(\"Training Accuracy: {:.2f}%\".format(train_acc*100))\n",
    "print(\"Testing Accuracy: {:.2f}%\".format(test_acc*100))"
   ]
  },
  {
   "cell_type": "code",
   "execution_count": 14,
   "metadata": {},
   "outputs": [
    {
     "name": "stdout",
     "output_type": "stream",
     "text": [
      "95% confidence interval: 85.01%-89.91%\n"
     ]
    }
   ],
   "source": [
    "# computing 95% confidence interval\n",
    "n = docterm_test.shape[0]\n",
    "lb, ub = error_conf(1-test_acc, n)\n",
    "\n",
    "print(\"95% confidence interval: {:.2f}%-{:.2f}%\".format((1-ub)*100,(1-lb)*100))"
   ]
  },
  {
   "cell_type": "markdown",
   "metadata": {},
   "source": [
    "### Random Forest"
   ]
  },
  {
   "cell_type": "code",
   "execution_count": 15,
   "metadata": {},
   "outputs": [
    {
     "data": {
      "text/plain": [
       "RandomForestClassifier(bootstrap=True, class_weight=None, criterion='gini',\n",
       "            max_depth=None, max_features='auto', max_leaf_nodes=None,\n",
       "            min_impurity_decrease=0.0, min_impurity_split=None,\n",
       "            min_samples_leaf=1, min_samples_split=60,\n",
       "            min_weight_fraction_leaf=0.0, n_estimators=10, n_jobs=1,\n",
       "            oob_score=False, random_state=None, verbose=0,\n",
       "            warm_start=False)"
      ]
     },
     "execution_count": 15,
     "metadata": {},
     "output_type": "execute_result"
    }
   ],
   "source": [
    "# Random Forest Model - train & test\n",
    "from sklearn.ensemble import RandomForestClassifier\n",
    "model = RandomForestClassifier(min_samples_split=60)\n",
    "model.fit(docterm_train, y_train)"
   ]
  },
  {
   "cell_type": "code",
   "execution_count": 16,
   "metadata": {},
   "outputs": [
    {
     "name": "stdout",
     "output_type": "stream",
     "text": [
      "Training Accuracy: 95.44%\n",
      "Testing Accuracy: 83.48%\n"
     ]
    }
   ],
   "source": [
    "# evaluate model\n",
    "train_acc, test_acc = evaluate_model(model.predict, docterm_train, y_train, docterm_test, y_test)\n",
    "print(\"Training Accuracy: {:.2f}%\".format(train_acc*100))\n",
    "print(\"Testing Accuracy: {:.2f}%\".format(test_acc*100))"
   ]
  },
  {
   "cell_type": "code",
   "execution_count": 17,
   "metadata": {},
   "outputs": [
    {
     "name": "stdout",
     "output_type": "stream",
     "text": [
      "95% confidence interval: 80.73%-86.22%\n"
     ]
    }
   ],
   "source": [
    "# computing 95% confidence interval\n",
    "n = docterm_test.shape[0]\n",
    "lb, ub = error_conf(1-test_acc, n)\n",
    "\n",
    "print(\"95% confidence interval: {:.2f}%-{:.2f}%\".format((1-ub)*100,(1-lb)*100))"
   ]
  },
  {
   "cell_type": "markdown",
   "metadata": {},
   "source": [
    "### Deep Neural Network"
   ]
  },
  {
   "cell_type": "code",
   "execution_count": 18,
   "metadata": {},
   "outputs": [
    {
     "name": "stderr",
     "output_type": "stream",
     "text": [
      "Using TensorFlow backend.\n"
     ]
    },
    {
     "name": "stdout",
     "output_type": "stream",
     "text": [
      "Train on 2808 samples, validate on 702 samples\n",
      "Epoch 1/20\n",
      "2808/2808 [==============================] - 23s 8ms/step - loss: 0.6071 - acc: 0.6560 - val_loss: 0.3909 - val_acc: 0.8048\n",
      "Epoch 2/20\n",
      "2808/2808 [==============================] - 19s 7ms/step - loss: 0.2406 - acc: 0.9135 - val_loss: 0.1736 - val_acc: 0.9274\n",
      "Epoch 3/20\n",
      "2808/2808 [==============================] - 22s 8ms/step - loss: 0.0465 - acc: 0.9882 - val_loss: 0.2290 - val_acc: 0.9330\n",
      "Epoch 4/20\n",
      "2808/2808 [==============================] - 20s 7ms/step - loss: 0.0153 - acc: 0.9961 - val_loss: 0.3635 - val_acc: 0.9288\n",
      "Epoch 5/20\n",
      "2808/2808 [==============================] - 20s 7ms/step - loss: 0.0016 - acc: 0.9996 - val_loss: 0.4920 - val_acc: 0.9302\n",
      "Epoch 6/20\n",
      "2808/2808 [==============================] - 20s 7ms/step - loss: 0.0022 - acc: 0.9993 - val_loss: 0.6523 - val_acc: 0.9302\n",
      "Epoch 7/20\n",
      "2808/2808 [==============================] - 22s 8ms/step - loss: 3.7626e-04 - acc: 1.0000 - val_loss: 0.7033 - val_acc: 0.9274\n",
      "Epoch 8/20\n",
      "2808/2808 [==============================] - 25s 9ms/step - loss: 3.4778e-05 - acc: 1.0000 - val_loss: 0.8048 - val_acc: 0.9259\n",
      "Epoch 9/20\n",
      "2808/2808 [==============================] - 28s 10ms/step - loss: 0.0021 - acc: 0.9996 - val_loss: 0.8058 - val_acc: 0.9302\n",
      "Epoch 10/20\n",
      "2808/2808 [==============================] - 23s 8ms/step - loss: 0.0012 - acc: 0.9996 - val_loss: 0.9223 - val_acc: 0.9274\n",
      "Epoch 11/20\n",
      "2808/2808 [==============================] - 24s 9ms/step - loss: 0.0014 - acc: 0.9996 - val_loss: 0.9029 - val_acc: 0.9259\n",
      "Epoch 12/20\n",
      "2808/2808 [==============================] - 22s 8ms/step - loss: 0.0119 - acc: 0.9986 - val_loss: 1.0540 - val_acc: 0.9217\n",
      "Epoch 13/20\n",
      "2808/2808 [==============================] - 24s 8ms/step - loss: 1.2036e-05 - acc: 1.0000 - val_loss: 1.0483 - val_acc: 0.9202\n",
      "Epoch 14/20\n",
      "2808/2808 [==============================] - 24s 9ms/step - loss: 6.0445e-06 - acc: 1.0000 - val_loss: 1.0466 - val_acc: 0.9245\n",
      "Epoch 15/20\n",
      "2808/2808 [==============================] - 27s 10ms/step - loss: 0.0063 - acc: 0.9989 - val_loss: 1.0313 - val_acc: 0.9231\n",
      "Epoch 16/20\n",
      "2808/2808 [==============================] - 27s 9ms/step - loss: 6.2531e-05 - acc: 1.0000 - val_loss: 1.0620 - val_acc: 0.9202\n",
      "Epoch 17/20\n",
      "2808/2808 [==============================] - 24s 9ms/step - loss: 0.0042 - acc: 0.9996 - val_loss: 1.0144 - val_acc: 0.9202\n",
      "Epoch 18/20\n",
      "2808/2808 [==============================] - 25s 9ms/step - loss: 0.0036 - acc: 0.9996 - val_loss: 1.1273 - val_acc: 0.9202\n",
      "Epoch 19/20\n",
      "2808/2808 [==============================] - 27s 9ms/step - loss: 0.0116 - acc: 0.9989 - val_loss: 1.0347 - val_acc: 0.9188\n",
      "Epoch 20/20\n",
      "2808/2808 [==============================] - 29s 10ms/step - loss: 9.4721e-04 - acc: 0.9993 - val_loss: 1.0671 - val_acc: 0.9217\n"
     ]
    },
    {
     "data": {
      "text/plain": [
       "<keras.callbacks.History at 0x18f4f5f28>"
      ]
     },
     "execution_count": 18,
     "metadata": {},
     "output_type": "execute_result"
    }
   ],
   "source": [
    "# DNN\n",
    "import numpy as np\n",
    "from keras.models import Sequential\n",
    "from keras.layers import Dense, Dropout\n",
    "\n",
    "# build the model\n",
    "model = Sequential()\n",
    "model.add(Dense(1024, input_dim=docterm_train.shape[1], activation='relu'))\n",
    "model.add(Dropout(0.5))\n",
    "model.add(Dense(512, activation='relu'))\n",
    "model.add(Dropout(0.5))\n",
    "model.add(Dense(512, activation='relu'))\n",
    "model.add(Dropout(0.5))\n",
    "model.add(Dense(128, activation='relu'))\n",
    "model.add(Dropout(0.5))\n",
    "model.add(Dense(64, activation='relu'))\n",
    "model.add(Dropout(0.5))\n",
    "model.add(Dense(1, activation='sigmoid'))\n",
    "\n",
    "model.compile(loss='binary_crossentropy',\n",
    "              optimizer='rmsprop',\n",
    "              metrics=['accuracy'])\n",
    "\n",
    "model.fit(docterm_train, y_train.apply(convert),\n",
    "          epochs=20,\n",
    "          batch_size=128,\n",
    "          validation_data=(docterm_test, y_test.apply(convert)))"
   ]
  },
  {
   "cell_type": "code",
   "execution_count": 19,
   "metadata": {},
   "outputs": [
    {
     "name": "stdout",
     "output_type": "stream",
     "text": [
      "Training Accuracy: 100.00%\n",
      "Testing Accuracy: 92.17%\n"
     ]
    }
   ],
   "source": [
    "# evaluate model\n",
    "train_acc, test_acc = evaluate_model(model.predict_classes, \n",
    "                                     docterm_train, \n",
    "                                     y_train.apply(convert), \n",
    "                                     docterm_test, \n",
    "                                     y_test.apply(convert))\n",
    "print(\"Training Accuracy: {:.2f}%\".format(train_acc*100))\n",
    "print(\"Testing Accuracy: {:.2f}%\".format(test_acc*100))"
   ]
  },
  {
   "cell_type": "code",
   "execution_count": 20,
   "metadata": {},
   "outputs": [
    {
     "name": "stdout",
     "output_type": "stream",
     "text": [
      "95% confidence interval: 90.18%-94.15%\n"
     ]
    }
   ],
   "source": [
    "# computing 95% confidence interval\n",
    "n = docterm_test.shape[0]\n",
    "lb, ub = error_conf(1-test_acc, n)\n",
    "\n",
    "print(\"95% confidence interval: {:.2f}%-{:.2f}%\".format((1-ub)*100,(1-lb)*100))"
   ]
  },
  {
   "cell_type": "markdown",
   "metadata": {},
   "source": [
    "## Semantic Features"
   ]
  },
  {
   "cell_type": "code",
   "execution_count": 21,
   "metadata": {
    "collapsed": true
   },
   "outputs": [],
   "source": [
    "# Load Spacy semantic model\n",
    "\n",
    "import spacy\n",
    "\n",
    "EMBEDDING_DIM = 300\n",
    "\n",
    "# NOTE: for performance reasons disable everything in the pipeline except the tokenizer\n",
    "nlp = spacy.load('en_core_web_lg', disable=['parser', 'tagger', 'ner', 'textcat'])"
   ]
  },
  {
   "cell_type": "code",
   "execution_count": 22,
   "metadata": {},
   "outputs": [
    {
     "name": "stdout",
     "output_type": "stream",
     "text": [
      "(3510,)\n"
     ]
    }
   ],
   "source": [
    "# preprocess text for semantic features\n",
    "\n",
    "def embed(X):\n",
    "    '''\n",
    "    x is a list of strings and embed will compute\n",
    "    an embedding vector for each and return an array\n",
    "    of shape (len(x),EMBEDDING_DIM)\n",
    "    '''\n",
    "    vectors = []\n",
    "    text_array = np.array(X)\n",
    "\n",
    "    print(text_array.shape)\n",
    "    \n",
    "    for i in range(text_array.shape[0]):\n",
    "        vector = nlp(text_array[i]).vector\n",
    "        vectors.append(vector)\n",
    "    \n",
    "    return pd.DataFrame(vectors)\n",
    "\n",
    "vectors = embed(X)"
   ]
  },
  {
   "cell_type": "code",
   "execution_count": 23,
   "metadata": {
    "collapsed": true
   },
   "outputs": [],
   "source": [
    "# create training and test data\n",
    "from sklearn.model_selection import train_test_split\n",
    "vectors_train, vectors_test, y_train, y_test = train_test_split(vectors, y, test_size=TEST_SIZE)"
   ]
  },
  {
   "cell_type": "markdown",
   "metadata": {},
   "source": [
    "### Naive Bayes"
   ]
  },
  {
   "cell_type": "code",
   "execution_count": 24,
   "metadata": {},
   "outputs": [
    {
     "data": {
      "text/plain": [
       "GaussianNB(priors=None)"
      ]
     },
     "execution_count": 24,
     "metadata": {},
     "output_type": "execute_result"
    }
   ],
   "source": [
    "# Naive Bayes Model \n",
    "from sklearn.naive_bayes import GaussianNB\n",
    "model = GaussianNB()\n",
    "model.fit(vectors_train,y_train)"
   ]
  },
  {
   "cell_type": "code",
   "execution_count": 25,
   "metadata": {},
   "outputs": [
    {
     "name": "stdout",
     "output_type": "stream",
     "text": [
      "Training Accuracy: 73.79%\n",
      "Testing Accuracy: 70.66%\n"
     ]
    }
   ],
   "source": [
    "# evaluate model\n",
    "train_acc, test_acc = evaluate_model(model.predict, vectors_train, y_train, vectors_test, y_test)\n",
    "print(\"Training Accuracy: {:.2f}%\".format(train_acc*100))\n",
    "print(\"Testing Accuracy: {:.2f}%\".format(test_acc*100))"
   ]
  },
  {
   "cell_type": "code",
   "execution_count": 26,
   "metadata": {},
   "outputs": [
    {
     "name": "stdout",
     "output_type": "stream",
     "text": [
      "95% confidence interval: 67.29%-74.02%\n"
     ]
    }
   ],
   "source": [
    "# computing 95% confidence interval\n",
    "n = docterm_test.shape[0]\n",
    "lb, ub = error_conf(1-test_acc, n)\n",
    "\n",
    "print(\"95% confidence interval: {:.2f}%-{:.2f}%\".format((1-ub)*100,(1-lb)*100))"
   ]
  },
  {
   "cell_type": "markdown",
   "metadata": {},
   "source": [
    "### Random Forest"
   ]
  },
  {
   "cell_type": "code",
   "execution_count": 27,
   "metadata": {},
   "outputs": [
    {
     "data": {
      "text/plain": [
       "RandomForestClassifier(bootstrap=True, class_weight=None, criterion='gini',\n",
       "            max_depth=None, max_features='auto', max_leaf_nodes=None,\n",
       "            min_impurity_decrease=0.0, min_impurity_split=None,\n",
       "            min_samples_leaf=1, min_samples_split=10,\n",
       "            min_weight_fraction_leaf=0.0, n_estimators=10, n_jobs=1,\n",
       "            oob_score=False, random_state=None, verbose=0,\n",
       "            warm_start=False)"
      ]
     },
     "execution_count": 27,
     "metadata": {},
     "output_type": "execute_result"
    }
   ],
   "source": [
    "# Random Forest Model \n",
    "from sklearn.ensemble import RandomForestClassifier\n",
    "model = RandomForestClassifier(min_samples_split=10)\n",
    "model.fit(vectors_train, y_train)"
   ]
  },
  {
   "cell_type": "code",
   "execution_count": 28,
   "metadata": {},
   "outputs": [
    {
     "name": "stdout",
     "output_type": "stream",
     "text": [
      "Training Accuracy: 98.79%\n",
      "Testing Accuracy: 81.20%\n"
     ]
    }
   ],
   "source": [
    "# evaluate model\n",
    "train_acc, test_acc = evaluate_model(model.predict, vectors_train, y_train, vectors_test, y_test)\n",
    "print(\"Training Accuracy: {:.2f}%\".format(train_acc*100))\n",
    "print(\"Testing Accuracy: {:.2f}%\".format(test_acc*100))"
   ]
  },
  {
   "cell_type": "code",
   "execution_count": 29,
   "metadata": {},
   "outputs": [
    {
     "name": "stdout",
     "output_type": "stream",
     "text": [
      "95% confidence interval: 78.31%-84.09%\n"
     ]
    }
   ],
   "source": [
    "# computing 95% confidence interval\n",
    "n = docterm_test.shape[0]\n",
    "lb, ub = error_conf(1-test_acc, n)\n",
    "\n",
    "print(\"95% confidence interval: {:.2f}%-{:.2f}%\".format((1-ub)*100,(1-lb)*100))"
   ]
  },
  {
   "cell_type": "markdown",
   "metadata": {},
   "source": [
    "### Deep Neural Network"
   ]
  },
  {
   "cell_type": "code",
   "execution_count": 30,
   "metadata": {
    "collapsed": true
   },
   "outputs": [],
   "source": [
    "# DNN - MLP\n",
    "from keras.models import Sequential\n",
    "from keras.layers import Dense, Dropout\n",
    "\n",
    "# build the model\n",
    "model = Sequential()\n",
    "model.add(Dense(256, input_dim=EMBEDDING_DIM, activation='relu'))\n",
    "model.add(Dropout(0.5))\n",
    "model.add(Dense(256, activation='relu'))\n",
    "model.add(Dropout(0.5))\n",
    "model.add(Dense(128, activation='relu'))\n",
    "model.add(Dropout(0.5))\n",
    "model.add(Dense(64, activation='relu'))\n",
    "model.add(Dropout(0.5))\n",
    "model.add(Dense(1, activation='sigmoid'))"
   ]
  },
  {
   "cell_type": "code",
   "execution_count": 31,
   "metadata": {},
   "outputs": [
    {
     "name": "stdout",
     "output_type": "stream",
     "text": [
      "Train on 2808 samples, validate on 702 samples\n",
      "Epoch 1/15\n",
      "2808/2808 [==============================] - 4s 2ms/step - loss: 0.6814 - acc: 0.5666 - val_loss: 0.6571 - val_acc: 0.5698\n",
      "Epoch 2/15\n",
      "2808/2808 [==============================] - 1s 307us/step - loss: 0.6331 - acc: 0.6296 - val_loss: 0.5504 - val_acc: 0.7892\n",
      "Epoch 3/15\n",
      "2808/2808 [==============================] - 1s 314us/step - loss: 0.5412 - acc: 0.7382 - val_loss: 0.4887 - val_acc: 0.7863\n",
      "Epoch 4/15\n",
      "2808/2808 [==============================] - 1s 327us/step - loss: 0.4655 - acc: 0.7970 - val_loss: 0.4320 - val_acc: 0.8276\n",
      "Epoch 5/15\n",
      "2808/2808 [==============================] - 1s 320us/step - loss: 0.4151 - acc: 0.8162 - val_loss: 0.3791 - val_acc: 0.8333\n",
      "Epoch 6/15\n",
      "2808/2808 [==============================] - 1s 335us/step - loss: 0.3893 - acc: 0.8401 - val_loss: 0.3704 - val_acc: 0.8376\n",
      "Epoch 7/15\n",
      "2808/2808 [==============================] - 1s 334us/step - loss: 0.3578 - acc: 0.8515 - val_loss: 0.3403 - val_acc: 0.8632\n",
      "Epoch 8/15\n",
      "2808/2808 [==============================] - 1s 288us/step - loss: 0.3417 - acc: 0.8586 - val_loss: 0.3982 - val_acc: 0.8305\n",
      "Epoch 9/15\n",
      "2808/2808 [==============================] - 1s 204us/step - loss: 0.3255 - acc: 0.8586 - val_loss: 0.3172 - val_acc: 0.8732\n",
      "Epoch 10/15\n",
      "2808/2808 [==============================] - 1s 197us/step - loss: 0.3370 - acc: 0.8650 - val_loss: 0.3130 - val_acc: 0.8718\n",
      "Epoch 11/15\n",
      "2808/2808 [==============================] - 1s 200us/step - loss: 0.3161 - acc: 0.8754 - val_loss: 0.3288 - val_acc: 0.8689\n",
      "Epoch 12/15\n",
      "2808/2808 [==============================] - 1s 221us/step - loss: 0.3042 - acc: 0.8757 - val_loss: 0.5613 - val_acc: 0.7607\n",
      "Epoch 13/15\n",
      "2808/2808 [==============================] - 1s 235us/step - loss: 0.3138 - acc: 0.8778 - val_loss: 0.3225 - val_acc: 0.8732\n",
      "Epoch 14/15\n",
      "2808/2808 [==============================] - 1s 247us/step - loss: 0.2854 - acc: 0.8832 - val_loss: 0.2886 - val_acc: 0.8761\n",
      "Epoch 15/15\n",
      "2808/2808 [==============================] - 1s 283us/step - loss: 0.2948 - acc: 0.8853 - val_loss: 0.2913 - val_acc: 0.8846\n"
     ]
    },
    {
     "data": {
      "text/plain": [
       "<keras.callbacks.History at 0x18f458a20>"
      ]
     },
     "execution_count": 31,
     "metadata": {},
     "output_type": "execute_result"
    }
   ],
   "source": [
    "model.compile(loss='binary_crossentropy',\n",
    "              optimizer='rmsprop',\n",
    "              metrics=['accuracy'])\n",
    "\n",
    "model.fit(vectors_train, y_train.apply(convert),\n",
    "          epochs=15,\n",
    "          batch_size=128,\n",
    "          validation_data=(vectors_test, y_test.apply(convert)))"
   ]
  },
  {
   "cell_type": "code",
   "execution_count": 32,
   "metadata": {},
   "outputs": [
    {
     "name": "stdout",
     "output_type": "stream",
     "text": [
      "Training Accuracy: 91.81%\n",
      "Testing Accuracy: 88.46%\n"
     ]
    }
   ],
   "source": [
    "# evaluate model\n",
    "train_acc, test_acc = evaluate_model(model.predict_classes, \n",
    "                                     vectors_train, \n",
    "                                     y_train.apply(convert), \n",
    "                                     vectors_test, \n",
    "                                     y_test.apply(convert))\n",
    "print(\"Training Accuracy: {:.2f}%\".format(train_acc*100))\n",
    "print(\"Testing Accuracy: {:.2f}%\".format(test_acc*100))"
   ]
  },
  {
   "cell_type": "code",
   "execution_count": 33,
   "metadata": {},
   "outputs": [
    {
     "name": "stdout",
     "output_type": "stream",
     "text": [
      "95% confidence interval: 86.10%-90.82%\n"
     ]
    }
   ],
   "source": [
    "# estimating 95% confidence interval\n",
    "n = docterm_test.shape[0]\n",
    "lb, ub = error_conf(1-test_acc, n)\n",
    "\n",
    "print(\"95% confidence interval: {:.2f}%-{:.2f}%\".format((1-ub)*100,(1-lb)*100))"
   ]
  },
  {
   "cell_type": "code",
   "execution_count": null,
   "metadata": {
    "collapsed": true
   },
   "outputs": [],
   "source": []
  }
 ],
 "metadata": {
  "kernelspec": {
   "display_name": "Python 3",
   "language": "python",
   "name": "python3"
  },
  "language_info": {
   "codemirror_mode": {
    "name": "ipython",
    "version": 3
   },
   "file_extension": ".py",
   "mimetype": "text/x-python",
   "name": "python",
   "nbconvert_exporter": "python",
   "pygments_lexer": "ipython3",
   "version": "3.6.1"
  }
 },
 "nbformat": 4,
 "nbformat_minor": 2
}
